{
 "cells": [
  {
   "cell_type": "code",
   "execution_count": 4,
   "id": "ef63e270",
   "metadata": {},
   "outputs": [
    {
     "name": "stdout",
     "output_type": "stream",
     "text": [
      "{0: 8, 1: 13, 2: 43, 3: 1, 4: 8}\n",
      "{0: 8, 1: 13, 2: 43, 3: 1, 4: 8, 5: 100}\n"
     ]
    }
   ],
   "source": [
    "ahmed = {0:8, 1:13, 2:43, 3:1, 4:8}\n",
    "print(ahmed)\n",
    "ahmed.update({5:100})\n",
    "print(ahmed)\n"
   ]
  },
  {
   "cell_type": "code",
   "execution_count": null,
   "id": "2042a464",
   "metadata": {},
   "outputs": [],
   "source": []
  }
 ],
 "metadata": {
  "kernelspec": {
   "display_name": "Python 3",
   "language": "python",
   "name": "python3"
  },
  "language_info": {
   "codemirror_mode": {
    "name": "ipython",
    "version": 3
   },
   "file_extension": ".py",
   "mimetype": "text/x-python",
   "name": "python",
   "nbconvert_exporter": "python",
   "pygments_lexer": "ipython3",
   "version": "3.8.8"
  }
 },
 "nbformat": 4,
 "nbformat_minor": 5
}
