{
 "cells": [
  {
   "cell_type": "code",
   "execution_count": 8,
   "id": "af9e18e1",
   "metadata": {},
   "outputs": [
    {
     "name": "stdout",
     "output_type": "stream",
     "text": [
      "Checking the element exists in list or not \n",
      "Element Exists\n",
      "Element does not Exists\n",
      "Element does not Exists\n",
      "Element does not Exists\n",
      "Element does not Exists\n",
      "Element does not Exists\n"
     ]
    }
   ],
   "source": [
    "\n",
    "\n",
    "list = [ 2, 9, 10, 11, 23, 41 ]\n",
    " \n",
    "print(\"Checking the element exists in list or not \")\n",
    " \n",
    "for i in list:\n",
    "    if(i == 2) :\n",
    "        print (\"Element Exists\")\n",
    "    else:\n",
    "        print(\"Element does not Exists\")\n"
   ]
  },
  {
   "cell_type": "code",
   "execution_count": null,
   "id": "fa128ed4",
   "metadata": {},
   "outputs": [],
   "source": []
  },
  {
   "cell_type": "code",
   "execution_count": null,
   "id": "a7ff9d1b",
   "metadata": {},
   "outputs": [],
   "source": []
  }
 ],
 "metadata": {
  "kernelspec": {
   "display_name": "Python 3",
   "language": "python",
   "name": "python3"
  },
  "language_info": {
   "codemirror_mode": {
    "name": "ipython",
    "version": 3
   },
   "file_extension": ".py",
   "mimetype": "text/x-python",
   "name": "python",
   "nbconvert_exporter": "python",
   "pygments_lexer": "ipython3",
   "version": "3.8.8"
  }
 },
 "nbformat": 4,
 "nbformat_minor": 5
}
