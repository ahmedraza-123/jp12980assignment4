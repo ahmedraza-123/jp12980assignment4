{
 "cells": [
  {
   "cell_type": "code",
   "execution_count": 2,
   "id": "64d4d92d",
   "metadata": {},
   "outputs": [
    {
     "name": "stdout",
     "output_type": "stream",
     "text": [
      "4 12 13 65 40 "
     ]
    }
   ],
   "source": [
    "ahmed=[4,9,1,12,65,4,6,8,13,12,13,65,40,90,70,40]\n",
    "raza=[]\n",
    "for i in ahmed:\n",
    "    if i not in raza:\n",
    "        raza.append(i)\n",
    "    else:\n",
    "        print(i,end=' ')"
   ]
  },
  {
   "cell_type": "code",
   "execution_count": null,
   "id": "089ce70f",
   "metadata": {},
   "outputs": [],
   "source": []
  }
 ],
 "metadata": {
  "kernelspec": {
   "display_name": "Python 3",
   "language": "python",
   "name": "python3"
  },
  "language_info": {
   "codemirror_mode": {
    "name": "ipython",
    "version": 3
   },
   "file_extension": ".py",
   "mimetype": "text/x-python",
   "name": "python",
   "nbconvert_exporter": "python",
   "pygments_lexer": "ipython3",
   "version": "3.8.8"
  }
 },
 "nbformat": 4,
 "nbformat_minor": 5
}
