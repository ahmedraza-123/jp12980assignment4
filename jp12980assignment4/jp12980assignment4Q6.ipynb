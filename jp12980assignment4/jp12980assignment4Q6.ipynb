{
 "cells": [
  {
   "cell_type": "code",
   "execution_count": 2,
   "id": "b3c5f4af",
   "metadata": {},
   "outputs": [
    {
     "name": "stdout",
     "output_type": "stream",
     "text": [
      "Key is Present\n",
      "Key is Not Present \n"
     ]
    }
   ],
   "source": [
    "ahmed = {1: 10, 2: 20, 3: 30, 4: 40, 5: 50, 6: 60, 7: 13, 8: 24, 9:44}\n",
    "def Key_present(raza):\n",
    "  if raza in ahmed:\n",
    "      print('Key is Present')\n",
    "  else:\n",
    "      print('Key is Not Present ')\n",
    "Key_present(2)\n",
    "Key_present(10)"
   ]
  },
  {
   "cell_type": "code",
   "execution_count": null,
   "id": "991b03af",
   "metadata": {},
   "outputs": [],
   "source": []
  }
 ],
 "metadata": {
  "kernelspec": {
   "display_name": "Python 3",
   "language": "python",
   "name": "python3"
  },
  "language_info": {
   "codemirror_mode": {
    "name": "ipython",
    "version": 3
   },
   "file_extension": ".py",
   "mimetype": "text/x-python",
   "name": "python",
   "nbconvert_exporter": "python",
   "pygments_lexer": "ipython3",
   "version": "3.8.8"
  }
 },
 "nbformat": 4,
 "nbformat_minor": 5
}
