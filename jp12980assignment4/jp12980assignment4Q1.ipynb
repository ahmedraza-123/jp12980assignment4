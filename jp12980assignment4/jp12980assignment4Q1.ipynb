{
 "cells": [
  {
   "cell_type": "code",
   "execution_count": 14,
   "id": "fa96c877",
   "metadata": {},
   "outputs": [
    {
     "name": "stdout",
     "output_type": "stream",
     "text": [
      "1.Addition\n",
      "2.Subtraction\n",
      "3.Multiplication\n",
      "4.Division\n",
      "5.Power\n",
      "Enter No(1/2/3/4/5): 2\n",
      "Enter First Number: 3\n",
      "Enter Second Number: 4\n",
      "3.0 - 4.0 = -1.0\n",
      "Press Any Yes to Continue and No to Exit? (yes/no): yes\n",
      "Enter No(1/2/3/4/5): 1\n",
      "Enter First Number: 2\n",
      "Enter Second Number: 2\n",
      "2.0 + 2.0 = 4.0\n",
      "Press Any Yes to Continue and No to Exit? (yes/no): no\n"
     ]
    }
   ],
   "source": [
    "\n",
    "def addition(x, y):\n",
    "    return x + y\n",
    "\n",
    "\n",
    "def subtraction(x, y):\n",
    "    return x - y\n",
    "\n",
    "\n",
    "def multiplication(x, y):\n",
    "    return x * y\n",
    "\n",
    "\n",
    "def division(x, y):\n",
    "    return x / y\n",
    "\n",
    "def power (x,y):\n",
    "    return x ** y\n",
    "    \n",
    "\n",
    "\n",
    "\n",
    "\n",
    "print(\"1.Addition\")\n",
    "print(\"2.Subtraction\")\n",
    "print(\"3.Multiplication\")\n",
    "print(\"4.Division\")\n",
    "print(\"5.Power\")\n",
    "\n",
    "\n",
    "while True:\n",
    "   \n",
    "    Number = input(\"Enter No(1/2/3/4/5): \")\n",
    "\n",
    "   \n",
    "    if Number in ('1', '2', '3', '4','5'):\n",
    "        number1 = float(input(\"Enter First Number: \"))\n",
    "        number2 = float(input(\"Enter Second Number: \"))\n",
    "\n",
    "        if Number == '1':\n",
    "            print(number1, \"+\", number2, \"=\", addition(number1, number2))\n",
    "\n",
    "        elif Number == '2':\n",
    "            print(number1, \"-\", number2, \"=\", subtraction(number1, number2))\n",
    "\n",
    "        elif Number == '3':\n",
    "            print(number1, \"*\", number2, \"=\", multiplication(number1, number2))\n",
    "\n",
    "        elif Number == '4':\n",
    "            print(number1, \"/\", number2, \"=\", division(number1, number2))\n",
    "            \n",
    "        elif Number == '5':\n",
    "        \n",
    "            print(number1, \"**\", number2, \"=\", power(number1, number2))\n",
    "            \n",
    "        \n",
    "       \n",
    "        Calculation = input(\"Press Any Yes to Continue and No to Exit? (yes/no): \")\n",
    "        if Calculation == \"yes\":\n",
    "          continue\n",
    "        elif Calculation == \"no\":\n",
    "          break\n",
    "    \n",
    "    \n"
   ]
  },
  {
   "cell_type": "code",
   "execution_count": null,
   "id": "e635a133",
   "metadata": {},
   "outputs": [],
   "source": []
  },
  {
   "cell_type": "code",
   "execution_count": null,
   "id": "f57fe32a",
   "metadata": {},
   "outputs": [],
   "source": []
  }
 ],
 "metadata": {
  "kernelspec": {
   "display_name": "Python 3",
   "language": "python",
   "name": "python3"
  },
  "language_info": {
   "codemirror_mode": {
    "name": "ipython",
    "version": 3
   },
   "file_extension": ".py",
   "mimetype": "text/x-python",
   "name": "python",
   "nbconvert_exporter": "python",
   "pygments_lexer": "ipython3",
   "version": "3.8.8"
  }
 },
 "nbformat": 4,
 "nbformat_minor": 5
}
