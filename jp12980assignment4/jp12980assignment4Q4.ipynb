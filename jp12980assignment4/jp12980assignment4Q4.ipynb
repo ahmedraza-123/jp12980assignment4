{
 "cells": [
  {
   "cell_type": "code",
   "execution_count": 3,
   "id": "681514cf",
   "metadata": {},
   "outputs": [
    {
     "name": "stdout",
     "output_type": "stream",
     "text": [
      "484\n"
     ]
    }
   ],
   "source": [
    "Addition = {'value1':0,'value2':98,'value3':-76, 'value4': 450, 'value5': 12}\n",
    "print(sum(Addition.values()))"
   ]
  },
  {
   "cell_type": "code",
   "execution_count": null,
   "id": "3a8af463",
   "metadata": {},
   "outputs": [],
   "source": []
  }
 ],
 "metadata": {
  "kernelspec": {
   "display_name": "Python 3",
   "language": "python",
   "name": "python3"
  },
  "language_info": {
   "codemirror_mode": {
    "name": "ipython",
    "version": 3
   },
   "file_extension": ".py",
   "mimetype": "text/x-python",
   "name": "python",
   "nbconvert_exporter": "python",
   "pygments_lexer": "ipython3",
   "version": "3.8.8"
  }
 },
 "nbformat": 4,
 "nbformat_minor": 5
}
